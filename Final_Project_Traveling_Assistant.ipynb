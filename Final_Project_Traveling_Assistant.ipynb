{
  "cells": [
    {
      "cell_type": "markdown",
      "metadata": {
        "id": "view-in-github",
        "colab_type": "text"
      },
      "source": [
        "<a href=\"https://colab.research.google.com/github/taotaodafeimi/travel_assistant/blob/main/Final_Project_Traveling_Assistant.ipynb\" target=\"_parent\"><img src=\"https://colab.research.google.com/assets/colab-badge.svg\" alt=\"Open In Colab\"/></a>"
      ]
    },
    {
      "cell_type": "markdown",
      "metadata": {
        "id": "hL77L3Uei59o"
      },
      "source": [
        "#Set-Up"
      ]
    },
    {
      "cell_type": "code",
      "execution_count": null,
      "metadata": {
        "id": "T3OEUrcJgiSR"
      },
      "outputs": [],
      "source": [
        "#install and import mandatory packages\n",
        "\n",
        "%%capture\n",
        "import sys\n",
        "import os\n",
        "\n",
        "if 'google.colab' in sys.modules:\n",
        "    !pip install idaes-pse --pre\n",
        "    !idaes get-extensions --to ./bin\n",
        "    os.environ['PATH'] += ':bin'\n",
        "\n",
        "!pip install googlemaps\n",
        "!pip install folium\n",
        "import googlemaps\n",
        "from pyomo.environ import *\n",
        "import folium"
      ]
    },
    {
      "cell_type": "code",
      "source": [
        "hotel = input('enter your hotel address:')"
      ],
      "metadata": {
        "colab": {
          "base_uri": "https://localhost:8080/"
        },
        "id": "K4pP9OIpHsYf",
        "outputId": "ffa5ca29-b8ae-4df5-d16e-b9d11b052b4f"
      },
      "execution_count": null,
      "outputs": [
        {
          "name": "stdout",
          "output_type": "stream",
          "text": [
            "enter your hotel address:1\n"
          ]
        }
      ]
    },
    {
      "cell_type": "code",
      "source": [
        "location_list = []\n",
        "location = input('enter the location you will visit (enter 0 to stop):')\n",
        "while location != '0':\n",
        "  location_list.append(location)\n",
        "  location = input('enter the location you will visit (enter 0 to stop):')\n"
      ],
      "metadata": {
        "colab": {
          "base_uri": "https://localhost:8080/"
        },
        "id": "aBNuKJxrH1lr",
        "outputId": "ff48e26d-70cf-4bdf-d6f1-af4414aa2740"
      },
      "execution_count": null,
      "outputs": [
        {
          "name": "stdout",
          "output_type": "stream",
          "text": [
            "enter the location you will visit (enter 0 to stop):DC\n",
            "enter the location you will visit (enter 0 to stop):0\n"
          ]
        }
      ]
    },
    {
      "cell_type": "markdown",
      "source": [
        "#Inputs"
      ],
      "metadata": {
        "id": "r9TavVP6sVJE"
      }
    },
    {
      "cell_type": "code",
      "source": [
        "gmaps = googlemaps.Client(key='goole kpi') #I combine Google map API to get the location coordinates and find the shortest path\n",
        "\n",
        "hotel_address = '775 12th St NW, Washington D.C.' #enter your hotel address. Remember this address will be your start point in the model. For every location, you can enter the name of building or the address of the location.\n",
        "locations = [hotel_address, 'White House, Washington D.C.', 'Lincoln Memorial, Washington D.C.', 'Washington Monument, Washington D.C.','United States Capitol, Washington D.C.'] #enter the your plan\n",
        "\n",
        "# get coordinates for each location using Google Maps API\n",
        "coordinates_dict = {} #create a dict to store the coordinates for each loc.\n",
        "for loc in locations:\n",
        "    geocode_result = gmaps.geocode(loc) #get coordinates for each locoation\n",
        "    if geocode_result: #make sure we only append the correct location.\n",
        "        location = geocode_result[0]['geometry']['location'] #get coordinates for each locoation\n",
        "        coordinates_dict[loc] = (location['lat'], location['lng']) #enter latitude and longitude for each location into coordinates_dict variable\n",
        "\n",
        "# use Google Maps API to create the distance matrix using driving mode.\n",
        "distance_matrix = gmaps.distance_matrix(locations, locations, mode=\"driving\")\n",
        "\n",
        "# Extract distance matrix\n",
        "D = [[row['elements'][col]['distance']['value'] for col in range(len(locations))]\n",
        "        for row in distance_matrix['rows']]\n",
        "\n",
        "n = len(locations)\n",
        "D"
      ],
      "metadata": {
        "id": "SY25EmLwoCe3",
        "colab": {
          "base_uri": "https://localhost:8080/"
        },
        "outputId": "6e03cd45-b4d9-4a67-d3fd-78c40152aba6"
      },
      "execution_count": null,
      "outputs": [
        {
          "output_type": "execute_result",
          "data": {
            "text/plain": [
              "[[0, 1196, 3065, 1772, 3711],\n",
              " [918, 0, 2692, 1575, 4681],\n",
              " [2890, 2183, 0, 1330, 5058],\n",
              " [1772, 1446, 1330, 0, 3126],\n",
              " [4823, 5825, 7717, 4015, 0]]"
            ]
          },
          "metadata": {},
          "execution_count": 2
        }
      ]
    },
    {
      "cell_type": "markdown",
      "source": [
        "#TSP Model"
      ],
      "metadata": {
        "id": "bgIXiWM0tRUg"
      }
    },
    {
      "cell_type": "code",
      "source": [
        "# create TSP Model\n",
        "model = ConcreteModel()\n",
        "model.x = Var(range(n), range(n), domain=Binary) # model.x[i][j] represents whether the route will go directly from location i to location j. If model.x[i][j] is 1, it means the route includes going from i to j directly; if it's 0, the route does not include this path.\n",
        "model.u = Var(range(n), domain=NonNegativeReals) # make sure each location is visited one time\n",
        "\n",
        "# Objective: Minimize the total distance\n",
        "model.obj = Objective(expr=sum(D[i][j] * model.x[i, j] for i in range(n) for j in range(n) if i != j), sense = minimize)\n",
        "\n",
        "# Constraints\n",
        "model.constraints = ConstraintList()\n",
        "\n",
        "# Each location is visited exactly once\n",
        "for j in range(n):\n",
        "    if j != 0:  # Ignore the hotel (starting point) for this constraint\n",
        "        model.constraints.add(sum(model.x[i, j] for i in range(n) if i != j) == 1)\n",
        "for i in range(n):\n",
        "    if i != 0:  # Ignore the hotel (starting point) for this constraint\n",
        "        model.constraints.add(sum(model.x[i, j] for j in range(n) if i != j) == 1)\n",
        "\n",
        "# Sub-tour elimination\n",
        "for i in range(1, n):\n",
        "    for j in range(1, n):\n",
        "        if i != j:\n",
        "            model.constraints.add(model.u[i] - model.u[j] + n * model.x[i, j] <= n - 1)\n",
        "\n",
        "# Solve the model\n",
        "solver = SolverFactory('cbc')\n",
        "result = solver.solve(model)\n",
        "\n",
        "# Check if the solution is optimal\n",
        "if result.solver.status == SolverStatus.ok and result.solver.termination_condition == TerminationCondition.optimal:\n",
        "    # Extract the sequence of locations from the model's solution\n",
        "    route_sequence = []\n",
        "    for i in range(n):\n",
        "        for j in range(n):\n",
        "            if i != j and value(model.x[i, j]) > 0.5:\n",
        "                route_sequence.append((i, j))\n",
        "\n",
        "# Order the locations and calculate the total distance\n",
        "    ordered_locations = []\n",
        "    next_location = 0\n",
        "    total_distance = 0\n",
        "    while len(ordered_locations) < n:\n",
        "        for (i, j) in route_sequence:\n",
        "            if i == next_location:\n",
        "                ordered_locations.append(locations[i])\n",
        "                total_distance += D[i][j]\n",
        "                next_location = j\n",
        "                break\n",
        "\n",
        "    # Reorder coordinates based on the route\n",
        "    ordered_coordinates = [coordinates_dict[loc] for loc in ordered_locations]\n",
        "\n",
        "    # Create a map and set the first location is the coordinate of the hotel\n",
        "    map = folium.Map(location=ordered_coordinates[0], zoom_start=15)\n",
        "\n",
        "    # Add a green marker for the start point\n",
        "    folium.Marker(ordered_coordinates[0],tooltip=\"Click me!\",popup=ordered_locations[0],icon=folium.Icon(color='green', icon='play')).add_to(map)\n",
        "\n",
        "    # Add markers for the intermediate points\n",
        "    for i, point in enumerate(ordered_coordinates[1:-1], start=1):\n",
        "        folium.Marker(point,tooltip=\"Click me!\",popup=ordered_locations[i]).add_to(map)\n",
        "\n",
        "    # Add a red marker for the end point\n",
        "    folium.Marker(ordered_coordinates[-1],tooltip=\"Click me!\",popup=ordered_locations[-1],icon=folium.Icon(color='red', icon='flag')).add_to(map)\n",
        "\n",
        "    # Add lines for the route\n",
        "    for i in range(len(ordered_coordinates) - 1):\n",
        "        folium.PolyLine([ordered_coordinates[i], ordered_coordinates[i + 1]], color='blue').add_to(map)\n",
        "    #convert meter to miles\n",
        "    meter_to_miles = 1 / 1609.34\n",
        "    print(f\"Ordered Locations: {ordered_locations}\")\n",
        "    total_distance = total_distance*meter_to_miles\n",
        "    print(f\"Total Distance: {total_distance} meters\")\n",
        "else:\n",
        "    print(\"No optimal solution found.\")\n"
      ],
      "metadata": {
        "id": "TrMv19ZtsQBW",
        "outputId": "d637d5d4-adb5-4ee6-b4da-8de41d55223f",
        "colab": {
          "base_uri": "https://localhost:8080/"
        }
      },
      "execution_count": null,
      "outputs": [
        {
          "output_type": "stream",
          "name": "stdout",
          "text": [
            "Ordered Locations: ['775 12th St NW, Washington D.C.', 'United States Capitol, Washington D.C.', 'Washington Monument, Washington D.C.', 'Lincoln Memorial, Washington D.C.', 'White House, Washington D.C.']\n",
            "Total Distance: 7.554028359451702 meters\n"
          ]
        }
      ]
    },
    {
      "cell_type": "markdown",
      "source": [
        "#Shortest Path Map"
      ],
      "metadata": {
        "id": "_-KYdrrXx9YV"
      }
    },
    {
      "cell_type": "code",
      "source": [
        "#show the map\n",
        "map"
      ],
      "metadata": {
        "id": "8FR5q6ZywjWO",
        "outputId": "b43dccae-48f4-4134-e1be-3675a047f78e",
        "colab": {
          "base_uri": "https://localhost:8080/",
          "height": 1000
        }
      },
      "execution_count": null,
      "outputs": [
        {
          "output_type": "execute_result",
          "data": {
            "text/plain": [
              "<folium.folium.Map at 0x7d60d6cf21d0>"
            ],
            "text/html": [
              "<div style=\"width:100%;\"><div style=\"position:relative;width:100%;height:0;padding-bottom:60%;\"><span style=\"color:#565656\">Make this Notebook Trusted to load map: File -> Trust Notebook</span><iframe srcdoc=\"&lt;!DOCTYPE html&gt;\n",
              "&lt;html&gt;\n",
              "&lt;head&gt;\n",
              "    \n",
              "    &lt;meta http-equiv=&quot;content-type&quot; content=&quot;text/html; charset=UTF-8&quot; /&gt;\n",
              "    \n",
              "        &lt;script&gt;\n",
              "            L_NO_TOUCH = false;\n",
              "            L_DISABLE_3D = false;\n",
              "        &lt;/script&gt;\n",
              "    \n",
              "    &lt;style&gt;html, body {width: 100%;height: 100%;margin: 0;padding: 0;}&lt;/style&gt;\n",
              "    &lt;style&gt;#map {position:absolute;top:0;bottom:0;right:0;left:0;}&lt;/style&gt;\n",
              "    &lt;script src=&quot;https://cdn.jsdelivr.net/npm/leaflet@1.9.3/dist/leaflet.js&quot;&gt;&lt;/script&gt;\n",
              "    &lt;script src=&quot;https://code.jquery.com/jquery-1.12.4.min.js&quot;&gt;&lt;/script&gt;\n",
              "    &lt;script src=&quot;https://cdn.jsdelivr.net/npm/bootstrap@5.2.2/dist/js/bootstrap.bundle.min.js&quot;&gt;&lt;/script&gt;\n",
              "    &lt;script src=&quot;https://cdnjs.cloudflare.com/ajax/libs/Leaflet.awesome-markers/2.0.2/leaflet.awesome-markers.js&quot;&gt;&lt;/script&gt;\n",
              "    &lt;link rel=&quot;stylesheet&quot; href=&quot;https://cdn.jsdelivr.net/npm/leaflet@1.9.3/dist/leaflet.css&quot;/&gt;\n",
              "    &lt;link rel=&quot;stylesheet&quot; href=&quot;https://cdn.jsdelivr.net/npm/bootstrap@5.2.2/dist/css/bootstrap.min.css&quot;/&gt;\n",
              "    &lt;link rel=&quot;stylesheet&quot; href=&quot;https://netdna.bootstrapcdn.com/bootstrap/3.0.0/css/bootstrap.min.css&quot;/&gt;\n",
              "    &lt;link rel=&quot;stylesheet&quot; href=&quot;https://cdn.jsdelivr.net/npm/@fortawesome/fontawesome-free@6.2.0/css/all.min.css&quot;/&gt;\n",
              "    &lt;link rel=&quot;stylesheet&quot; href=&quot;https://cdnjs.cloudflare.com/ajax/libs/Leaflet.awesome-markers/2.0.2/leaflet.awesome-markers.css&quot;/&gt;\n",
              "    &lt;link rel=&quot;stylesheet&quot; href=&quot;https://cdn.jsdelivr.net/gh/python-visualization/folium/folium/templates/leaflet.awesome.rotate.min.css&quot;/&gt;\n",
              "    \n",
              "            &lt;meta name=&quot;viewport&quot; content=&quot;width=device-width,\n",
              "                initial-scale=1.0, maximum-scale=1.0, user-scalable=no&quot; /&gt;\n",
              "            &lt;style&gt;\n",
              "                #map_93e194c243f49e57929207b76e7bf9db {\n",
              "                    position: relative;\n",
              "                    width: 100.0%;\n",
              "                    height: 100.0%;\n",
              "                    left: 0.0%;\n",
              "                    top: 0.0%;\n",
              "                }\n",
              "                .leaflet-container { font-size: 1rem; }\n",
              "            &lt;/style&gt;\n",
              "        \n",
              "&lt;/head&gt;\n",
              "&lt;body&gt;\n",
              "    \n",
              "    \n",
              "            &lt;div class=&quot;folium-map&quot; id=&quot;map_93e194c243f49e57929207b76e7bf9db&quot; &gt;&lt;/div&gt;\n",
              "        \n",
              "&lt;/body&gt;\n",
              "&lt;script&gt;\n",
              "    \n",
              "    \n",
              "            var map_93e194c243f49e57929207b76e7bf9db = L.map(\n",
              "                &quot;map_93e194c243f49e57929207b76e7bf9db&quot;,\n",
              "                {\n",
              "                    center: [38.8990988, -77.0273227],\n",
              "                    crs: L.CRS.EPSG3857,\n",
              "                    zoom: 15,\n",
              "                    zoomControl: true,\n",
              "                    preferCanvas: false,\n",
              "                }\n",
              "            );\n",
              "\n",
              "            \n",
              "\n",
              "        \n",
              "    \n",
              "            var tile_layer_e4dfd18b1455e2f320402d8f93a943a1 = L.tileLayer(\n",
              "                &quot;https://{s}.tile.openstreetmap.org/{z}/{x}/{y}.png&quot;,\n",
              "                {&quot;attribution&quot;: &quot;Data by \\u0026copy; \\u003ca target=\\&quot;_blank\\&quot; href=\\&quot;http://openstreetmap.org\\&quot;\\u003eOpenStreetMap\\u003c/a\\u003e, under \\u003ca target=\\&quot;_blank\\&quot; href=\\&quot;http://www.openstreetmap.org/copyright\\&quot;\\u003eODbL\\u003c/a\\u003e.&quot;, &quot;detectRetina&quot;: false, &quot;maxNativeZoom&quot;: 18, &quot;maxZoom&quot;: 18, &quot;minZoom&quot;: 0, &quot;noWrap&quot;: false, &quot;opacity&quot;: 1, &quot;subdomains&quot;: &quot;abc&quot;, &quot;tms&quot;: false}\n",
              "            ).addTo(map_93e194c243f49e57929207b76e7bf9db);\n",
              "        \n",
              "    \n",
              "            var marker_da0e7adc6ebd55acbbdf9f1a8275b4f4 = L.marker(\n",
              "                [38.8990988, -77.0273227],\n",
              "                {}\n",
              "            ).addTo(map_93e194c243f49e57929207b76e7bf9db);\n",
              "        \n",
              "    \n",
              "            var icon_0a4a0e38bcfa43e9fc667bd5eb213499 = L.AwesomeMarkers.icon(\n",
              "                {&quot;extraClasses&quot;: &quot;fa-rotate-0&quot;, &quot;icon&quot;: &quot;play&quot;, &quot;iconColor&quot;: &quot;white&quot;, &quot;markerColor&quot;: &quot;green&quot;, &quot;prefix&quot;: &quot;glyphicon&quot;}\n",
              "            );\n",
              "            marker_da0e7adc6ebd55acbbdf9f1a8275b4f4.setIcon(icon_0a4a0e38bcfa43e9fc667bd5eb213499);\n",
              "        \n",
              "    \n",
              "        var popup_c9ef05f0f7382ce07ed265cbc1839021 = L.popup({&quot;maxWidth&quot;: &quot;100%&quot;});\n",
              "\n",
              "        \n",
              "            \n",
              "                var html_b9cb4a84b76e12d05cb099592b33db2e = $(`&lt;div id=&quot;html_b9cb4a84b76e12d05cb099592b33db2e&quot; style=&quot;width: 100.0%; height: 100.0%;&quot;&gt;775 12th St NW, Washington D.C.&lt;/div&gt;`)[0];\n",
              "                popup_c9ef05f0f7382ce07ed265cbc1839021.setContent(html_b9cb4a84b76e12d05cb099592b33db2e);\n",
              "            \n",
              "        \n",
              "\n",
              "        marker_da0e7adc6ebd55acbbdf9f1a8275b4f4.bindPopup(popup_c9ef05f0f7382ce07ed265cbc1839021)\n",
              "        ;\n",
              "\n",
              "        \n",
              "    \n",
              "    \n",
              "            marker_da0e7adc6ebd55acbbdf9f1a8275b4f4.bindTooltip(\n",
              "                `&lt;div&gt;\n",
              "                     Click me!\n",
              "                 &lt;/div&gt;`,\n",
              "                {&quot;sticky&quot;: true}\n",
              "            );\n",
              "        \n",
              "    \n",
              "            var marker_3a011a12d24045beaa144439a23ed715 = L.marker(\n",
              "                [38.8860434, -76.999525],\n",
              "                {}\n",
              "            ).addTo(map_93e194c243f49e57929207b76e7bf9db);\n",
              "        \n",
              "    \n",
              "        var popup_6eb29301815ca4187260922c32083213 = L.popup({&quot;maxWidth&quot;: &quot;100%&quot;});\n",
              "\n",
              "        \n",
              "            \n",
              "                var html_37f0cf5011ea8ef3d6cf49e004fd9b46 = $(`&lt;div id=&quot;html_37f0cf5011ea8ef3d6cf49e004fd9b46&quot; style=&quot;width: 100.0%; height: 100.0%;&quot;&gt;United States Capitol, Washington D.C.&lt;/div&gt;`)[0];\n",
              "                popup_6eb29301815ca4187260922c32083213.setContent(html_37f0cf5011ea8ef3d6cf49e004fd9b46);\n",
              "            \n",
              "        \n",
              "\n",
              "        marker_3a011a12d24045beaa144439a23ed715.bindPopup(popup_6eb29301815ca4187260922c32083213)\n",
              "        ;\n",
              "\n",
              "        \n",
              "    \n",
              "    \n",
              "            var marker_0b01310cf69d54e23b949dfa70c2e42a = L.marker(\n",
              "                [38.8894838, -77.0352791],\n",
              "                {}\n",
              "            ).addTo(map_93e194c243f49e57929207b76e7bf9db);\n",
              "        \n",
              "    \n",
              "        var popup_1018fdd1f5312213bacf479ac2a08679 = L.popup({&quot;maxWidth&quot;: &quot;100%&quot;});\n",
              "\n",
              "        \n",
              "            \n",
              "                var html_780208aeebd9566d58c84482a5cecad2 = $(`&lt;div id=&quot;html_780208aeebd9566d58c84482a5cecad2&quot; style=&quot;width: 100.0%; height: 100.0%;&quot;&gt;Washington Monument, Washington D.C.&lt;/div&gt;`)[0];\n",
              "                popup_1018fdd1f5312213bacf479ac2a08679.setContent(html_780208aeebd9566d58c84482a5cecad2);\n",
              "            \n",
              "        \n",
              "\n",
              "        marker_0b01310cf69d54e23b949dfa70c2e42a.bindPopup(popup_1018fdd1f5312213bacf479ac2a08679)\n",
              "        ;\n",
              "\n",
              "        \n",
              "    \n",
              "    \n",
              "            var marker_82a52c40bb2fbd9e326558d441a6cce8 = L.marker(\n",
              "                [38.8892686, -77.050176],\n",
              "                {}\n",
              "            ).addTo(map_93e194c243f49e57929207b76e7bf9db);\n",
              "        \n",
              "    \n",
              "        var popup_98a94ec216b1ee33d1e4d99d8ebd1037 = L.popup({&quot;maxWidth&quot;: &quot;100%&quot;});\n",
              "\n",
              "        \n",
              "            \n",
              "                var html_275dd16d40fe4f300ad0ddb55ef1a13a = $(`&lt;div id=&quot;html_275dd16d40fe4f300ad0ddb55ef1a13a&quot; style=&quot;width: 100.0%; height: 100.0%;&quot;&gt;Lincoln Memorial, Washington D.C.&lt;/div&gt;`)[0];\n",
              "                popup_98a94ec216b1ee33d1e4d99d8ebd1037.setContent(html_275dd16d40fe4f300ad0ddb55ef1a13a);\n",
              "            \n",
              "        \n",
              "\n",
              "        marker_82a52c40bb2fbd9e326558d441a6cce8.bindPopup(popup_98a94ec216b1ee33d1e4d99d8ebd1037)\n",
              "        ;\n",
              "\n",
              "        \n",
              "    \n",
              "    \n",
              "            var marker_65ec5c3cad5bb8a553074c8cf00af422 = L.marker(\n",
              "                [38.8976763, -77.0365298],\n",
              "                {}\n",
              "            ).addTo(map_93e194c243f49e57929207b76e7bf9db);\n",
              "        \n",
              "    \n",
              "            var icon_6fa5a09f76e50f304ac243b2bc2d2298 = L.AwesomeMarkers.icon(\n",
              "                {&quot;extraClasses&quot;: &quot;fa-rotate-0&quot;, &quot;icon&quot;: &quot;flag&quot;, &quot;iconColor&quot;: &quot;white&quot;, &quot;markerColor&quot;: &quot;red&quot;, &quot;prefix&quot;: &quot;glyphicon&quot;}\n",
              "            );\n",
              "            marker_65ec5c3cad5bb8a553074c8cf00af422.setIcon(icon_6fa5a09f76e50f304ac243b2bc2d2298);\n",
              "        \n",
              "    \n",
              "        var popup_a35ea1459eada68fff2a2d9ed5e13e2d = L.popup({&quot;maxWidth&quot;: &quot;100%&quot;});\n",
              "\n",
              "        \n",
              "            \n",
              "                var html_670c3d3c68875ee479aaac28823f839a = $(`&lt;div id=&quot;html_670c3d3c68875ee479aaac28823f839a&quot; style=&quot;width: 100.0%; height: 100.0%;&quot;&gt;White House, Washington D.C.&lt;/div&gt;`)[0];\n",
              "                popup_a35ea1459eada68fff2a2d9ed5e13e2d.setContent(html_670c3d3c68875ee479aaac28823f839a);\n",
              "            \n",
              "        \n",
              "\n",
              "        marker_65ec5c3cad5bb8a553074c8cf00af422.bindPopup(popup_a35ea1459eada68fff2a2d9ed5e13e2d)\n",
              "        ;\n",
              "\n",
              "        \n",
              "    \n",
              "    \n",
              "            var poly_line_c43b75efc38868726c0eb5f48b6796db = L.polyline(\n",
              "                [[38.8990988, -77.0273227], [38.8860434, -76.999525]],\n",
              "                {&quot;bubblingMouseEvents&quot;: true, &quot;color&quot;: &quot;blue&quot;, &quot;dashArray&quot;: null, &quot;dashOffset&quot;: null, &quot;fill&quot;: false, &quot;fillColor&quot;: &quot;blue&quot;, &quot;fillOpacity&quot;: 0.2, &quot;fillRule&quot;: &quot;evenodd&quot;, &quot;lineCap&quot;: &quot;round&quot;, &quot;lineJoin&quot;: &quot;round&quot;, &quot;noClip&quot;: false, &quot;opacity&quot;: 1.0, &quot;smoothFactor&quot;: 1.0, &quot;stroke&quot;: true, &quot;weight&quot;: 3}\n",
              "            ).addTo(map_93e194c243f49e57929207b76e7bf9db);\n",
              "        \n",
              "    \n",
              "            var poly_line_0b1f3bcac08530de196c67c0a40d42f7 = L.polyline(\n",
              "                [[38.8860434, -76.999525], [38.8894838, -77.0352791]],\n",
              "                {&quot;bubblingMouseEvents&quot;: true, &quot;color&quot;: &quot;blue&quot;, &quot;dashArray&quot;: null, &quot;dashOffset&quot;: null, &quot;fill&quot;: false, &quot;fillColor&quot;: &quot;blue&quot;, &quot;fillOpacity&quot;: 0.2, &quot;fillRule&quot;: &quot;evenodd&quot;, &quot;lineCap&quot;: &quot;round&quot;, &quot;lineJoin&quot;: &quot;round&quot;, &quot;noClip&quot;: false, &quot;opacity&quot;: 1.0, &quot;smoothFactor&quot;: 1.0, &quot;stroke&quot;: true, &quot;weight&quot;: 3}\n",
              "            ).addTo(map_93e194c243f49e57929207b76e7bf9db);\n",
              "        \n",
              "    \n",
              "            var poly_line_2015f9da13488eb23757a793f804b3a3 = L.polyline(\n",
              "                [[38.8894838, -77.0352791], [38.8892686, -77.050176]],\n",
              "                {&quot;bubblingMouseEvents&quot;: true, &quot;color&quot;: &quot;blue&quot;, &quot;dashArray&quot;: null, &quot;dashOffset&quot;: null, &quot;fill&quot;: false, &quot;fillColor&quot;: &quot;blue&quot;, &quot;fillOpacity&quot;: 0.2, &quot;fillRule&quot;: &quot;evenodd&quot;, &quot;lineCap&quot;: &quot;round&quot;, &quot;lineJoin&quot;: &quot;round&quot;, &quot;noClip&quot;: false, &quot;opacity&quot;: 1.0, &quot;smoothFactor&quot;: 1.0, &quot;stroke&quot;: true, &quot;weight&quot;: 3}\n",
              "            ).addTo(map_93e194c243f49e57929207b76e7bf9db);\n",
              "        \n",
              "    \n",
              "            var poly_line_ee08003b10c1406ce3ea9793b6d83449 = L.polyline(\n",
              "                [[38.8892686, -77.050176], [38.8976763, -77.0365298]],\n",
              "                {&quot;bubblingMouseEvents&quot;: true, &quot;color&quot;: &quot;blue&quot;, &quot;dashArray&quot;: null, &quot;dashOffset&quot;: null, &quot;fill&quot;: false, &quot;fillColor&quot;: &quot;blue&quot;, &quot;fillOpacity&quot;: 0.2, &quot;fillRule&quot;: &quot;evenodd&quot;, &quot;lineCap&quot;: &quot;round&quot;, &quot;lineJoin&quot;: &quot;round&quot;, &quot;noClip&quot;: false, &quot;opacity&quot;: 1.0, &quot;smoothFactor&quot;: 1.0, &quot;stroke&quot;: true, &quot;weight&quot;: 3}\n",
              "            ).addTo(map_93e194c243f49e57929207b76e7bf9db);\n",
              "        \n",
              "&lt;/script&gt;\n",
              "&lt;/html&gt;\" style=\"position:absolute;width:100%;height:100%;left:0;top:0;border:none !important;\" allowfullscreen webkitallowfullscreen mozallowfullscreen></iframe></div></div>"
            ]
          },
          "metadata": {},
          "execution_count": 41
        }
      ]
    }
  ],
  "metadata": {
    "@webio": {
      "lastCommId": null,
      "lastKernelId": null
    },
    "colab": {
      "collapsed_sections": [
        "hL77L3Uei59o",
        "3ktZgwWHcu__",
        "ZdfUd0qKehj6",
        "f8jbbLqDc-J_"
      ],
      "provenance": [],
      "include_colab_link": true
    },
    "kernelspec": {
      "display_name": "Python 3",
      "language": "python",
      "name": "python3"
    },
    "language_info": {
      "codemirror_mode": {
        "name": "ipython",
        "version": 3
      },
      "file_extension": ".py",
      "mimetype": "text/x-python",
      "name": "python",
      "nbconvert_exporter": "python",
      "pygments_lexer": "ipython3",
      "version": "3.7.3"
    }
  },
  "nbformat": 4,
  "nbformat_minor": 0
}